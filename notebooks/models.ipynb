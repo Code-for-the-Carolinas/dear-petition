{
 "cells": [
  {
   "cell_type": "code",
   "execution_count": 1,
   "metadata": {},
   "outputs": [],
   "source": [
    "import os\n",
    "import sys\n",
    "sys.path.append('..')\n",
    "\n",
    "os.environ.setdefault(\"DJANGO_SETTINGS_MODULE\", \"config.settings.local\")\n",
    "\n",
    "import django\n",
    "django.setup()"
   ]
  },
  {
   "cell_type": "code",
   "execution_count": 2,
   "metadata": {},
   "outputs": [],
   "source": [
    "import ciprs_reader"
   ]
  },
  {
   "cell_type": "code",
   "execution_count": 3,
   "metadata": {},
   "outputs": [],
   "source": [
    "from dear_petition.petition.models import CIPRSRecord, Batch\n",
    "from dear_petition.petition.data_dict import clean"
   ]
  },
  {
   "cell_type": "code",
   "execution_count": 30,
   "metadata": {},
   "outputs": [],
   "source": [
    "batch = Batch.objects.get(pk=22)"
   ]
  },
  {
   "cell_type": "code",
   "execution_count": 31,
   "metadata": {},
   "outputs": [
    {
     "data": {
      "text/plain": [
       "'15IF702186'"
      ]
     },
     "execution_count": 31,
     "metadata": {},
     "output_type": "execute_result"
    }
   ],
   "source": [
    "batch.file_no"
   ]
  },
  {
   "cell_type": "code",
   "execution_count": 25,
   "metadata": {},
   "outputs": [],
   "source": [
    "ordered_records = batch.records.order_by('pk')"
   ]
  },
  {
   "cell_type": "code",
   "execution_count": 26,
   "metadata": {},
   "outputs": [],
   "source": [
    "record = ordered_records[0]"
   ]
  },
  {
   "cell_type": "code",
   "execution_count": 27,
   "metadata": {},
   "outputs": [
    {
     "data": {
      "text/plain": [
       "{'_meta': {'source': \"Not a certified copy. ~ Not a certified copy. ~ Not a certified copy. ~ Not a certified copy. ~ Not a certified copy. ~ Not a certified copy.\\n\\n\\n                                                                                                                                                                               Case Details for Court Case ORANGE 15IF702186\\n                                                                                                                                                                                             Defendant: BOWES,DANIEL,PATRICK\\n                                                                                                                                                Case Information\\n                                                                                                                                                Case Record Was Last Updated: 09/22/2015                   Offense Date/Time: 05/17/2015 09:59 PM\\n                                                                                                                                                Case Status: DISPOSED                                      Case Was Issued on: 05/17/2015\\n                                                                                                                                                Microfilm Number: -                                        Case Was Entered on: 05/18/2015\\n                                                                                                                                                Case Was Reinstated: -                                     Case Was Served on: 05/17/2015\\n                                                                                                                                                Jurisdiction: DISTRICT COURT                               Court Session\\n                                                                                                                                                Citation Number: 8878F91                                   • Date: 07/15/2015\\n                                                                                                                                                Originating Case (OCA) or Incident                         • Session: AM\\n                                                                                                                                                • Agency: -                                                • Room: -\\n                                                                                                                                                • Number: -\\n                                                                                                                                                                                                           Number of Times the Case Was Continued\\n                                                                                                                                                Process Type in District Court: CITATION                   • By the Defense: 1\\n                                                                                                                                                Process Type in Superior Court: -                          • By the State: -\\n                                                                                                                                                Domestic Violence General Statute (G.S. 50B) Applies to    • By the Judge: -\\n                                                                                                                                                • Charged Offenses: NO                                     • Because the Case Could Not Be Heard on the Scheduled Date: -\\n                                                                                                                                                • Offenses Convicted in District Court: NO\\n                                                                                                                                                Crime Victim's Rights Act (G.S. 15A-830) Applies: NO\\n                                                                                                                                                Interpreter Used: -\\n                                                                                                                                                Case Notes: -\\n\\n                                                                                                                                                Case Officials\\n                                                                                                                                                Prosecuting Attorney                                       Defense Attorney\\n                                                                                                                                                • Assigned on: 07/15/2015                                  • Type: PRIVATELY RETAINED (SELF)\\n                                                                                                                                                • Initials: JLN                                            • Assigned on: 07/15/2015\\n                                                                                                                                                • Name: NIEMAN,JEFFREY,LARKIN                              • Name: KENNEDY,KEVIN\\n                                                                                                                                                Arrest and Release Information\\n                                                                                                                                                No arrest information was recorded for this case.\\n\\n                                                                                                                                                Violation of Court Orders\\n                                                                                                                                                Cash Bond Was Forfeited on: -                              Dates Related to Missed Court Appearances\\n                                                                                                                                                Outstanding Order for Arrest Exists: NO                    • Last Called And Failed on: -\\n                                                                                                                                                Terms of Probation Were Violated: NO                       • Failed to Appear Within 20 days: -\\n                                                                                                                                                Failed to Comply with Ordered Payment within Grace         • Appeared After Failing to Appear: -\\n                                                                                                                                                Period: YES\\n                                                                                                                                                Order to Show Cause Exists: NO\\n                                                                                                                                                Defendant\\n                                                                                                                                                Name: BOWES,DANIEL,PATRICK\\n                                                                                                                                                Alias Names:-\\n                                                                                                                                                Date of Birth/Estimated Age:                                Driver License Information\\n                                                                                                                                                09/10/1988                                                  • License State: NC\\n                                                                                                                                                Race: WHITE                                                 • Commercial License: NO\\n                                                                                                                                                Sex: MALE                                                   • State Reciprocity: NO\\n                                                                                                                                                Address: 1030 SUNNYVIEW CIR                                 • Civil Revocation Effective: -\\n                                                                                                                                                     MATTHEWS, NC 28105                                     • Civil Revocation Status: -\\n                                                                                                                                                Witnesses\\n\\n\\n\\n\\n                                                                                                                                                Printed on 04/02/2019 at 01:25:53 PM                        ORANGE 15IF702186                                 Page 1 of 3\\n\\x0cNot a certified copy. ~ Not a certified copy. ~ Not a certified copy. ~ Not a certified copy. ~ Not a certified copy. ~ Not a certified copy.                                                                  Address                     Phone Numbers            Subpoena\\n                                                                                                                                                Name: MORRISON,M,L                              HILLSBOROUGH, NC, -                      Home: -               Requested: -\\n                                                                                                                                                Type: COMPLAINANT                                                                        Work: -               Issued: -\\n                                                                                                                                                Officer Number: 1529                                                                                           Served: -\\n                                                                                                                                                Agency: STATE HIGHWAY PATROL                                                                                   Served By: -\\n\\n                                                                                                                                                Citation Information\\n                                                                                                                                                Citation Number: 8878F91                                         Commercial Vehicle: NO\\n                                                                                                                                                Offense Date/Time: 05/17/2015 09:59 PM                           Hazardous Material: NO\\n                                                                                                                                                State Road Number: I40                                           Vehicle Type: 2 OR 4 DOOR SEDAN (PASSENGER) CAR\\n                                                                                                                                                State Highway Patrol Area Number: 01                             Trailer Type: -\\n                                                                                                                                                State Highway Patrol Troop and District: D7                      License Plate: NC CLH4137\\n                                                                                                                                                Accident Severity: NEAR ACCIDENT OR NO ACCIDENT\\n                                                                                                                                                Consolidation for Judgment\\n                                                                                                                                                No consolidation information was recorded for this case.\\n\\n                                                                                                                                                Offense Record 1 of 1 (Line Number 1) DISTRICT COURT (Current Jurisdiction )\\n                                                                                                                                                                                         Description                              Severity                   Law          NCAOC\\n                                                                                                                                                                                                                                                                           Code\\n                                                                                                                                                CHARGED       SPEEDING(80 mph in a 65 mph zone)                           INFRACTION        G.S. 20-141(B)                 4450\\n                                                                                                                                                ARRAIGNED SPEEDING(80 mph in a 65 mph zone)                               INFRACTION        G.S. 20-141(B)                 4450\\n                                                                                                                                                CONVICTED IMPROPER EQUIP - SPEEDOMETER                                    INFRACTION        G.S. 20-123.2                  4418\\n                                                                                                                                                Disposed on: 07/15/2015                                          Plea: RESPONSIBLE TO LESSER\\n                                                                                                                                                Disposition Method: DISPOSED BY JUDGE                            Verdict: RESPONSIBLE\\n                                                                                                                                                Disposition Reason: -                                            Sentencing Class: -\\n                                                                                                                                                Correction Reason: -\\n\\n                                                                                                                                                Offense Record: Court Officials\\n\\n                                                                                                                                                Judge: SCARLETT,BEVERLY,AInitials: BAS\\n                                                                                                                                                Prosecuting Attorney                                                  Defense Attorney\\n                                                                                                                                                 Assigned     Initials                        Name                         Type        Assigned             Name\\n                                                                                                                                                    on                                                                                    on\\n                                                                                                                                                                                                                      PRIVATELY\\n                                                                                                                                                07/15/2015 JLN             NIEMAN,JEFFREY,L                                          07/15/2015 KENNEDY,KEVIN\\n                                                                                                                                                                                                                      RETAINED\\n                                                                                                                                                Offense Record: Violation of Court Orders\\n                                                                                                                                                Bond Forfeiture Was Ordered on: -                                Outstanding Order for Arrest Issued on: -\\n                                                                                                                                                Cash Bond Was Forfeited on: -                                    Terms of Probation Were Violated on: -\\n                                                                                                                                                Show Cause Order Issued on: -\\n                                                                                                                                                Dates Related to Missed Court Appearances                        Dates Related to Failing to Comply a with Court Order\\n                                                                                                                                                • Failed to Appear (Called & Failed) on: -                       • Failed to Comply on: -\\n                                                                                                                                                • Failed to Appear Within 20 days: -                             • Failed to Comply with Ordered Payment within Grace Period on:\\n                                                                                                                                                • Appeared After Failing to Appear: -                            08/10/2015\\n                                                                                                                                                                                                                 • Complied with Ordered Payments after Failing to Comply on:\\n                                                                                                                                                                                                                 09/21/2015\\n                                                                                                                                                Community Service License Revocation on: -                       Community Service License Revocation Compliance on: -\\n\\n                                                                                                                                                Offense Record: Transfers or Appeals\\n                                                                                                                                                No appeals or transfers were recorded for this offense.\\n                                                                                                                                                Offense Record: Special Conditions\\n                                                                                                                                                No special conditions were recorded for this offense.\\n                                                                                                                                                Offense Record: Sentence\\n                                                                                                                                                No sentence information was recorded for this offense.\\n                                                                                                                                                Offense Record: Probation\\n                                                                                                                                                No probation information was recorded for this offense.\\n\\n\\n\\n\\n                                                                                                                                                Printed on 04/02/2019 at 01:25:53 PM                              ORANGE 15IF702186                                  Page 2 of 3\\n\\x0cNot a certified copy. ~ Not a certified copy. ~ Not a certified copy. ~ Not a certified copy. ~ Not a certified copy. ~ Not a certified copy.   Offense Record: Monies\\n                                                                                                                                                Monies Paid Status: DEFENDANT HAS COMPLIED WITH FINE OR COST\\n                                                                                                                                                Date Monies To Be Paid: -\\n                                                                                                                                                Fine\\n                                                                                                                                                  Amount                                                                   Status\\n                                                                                                                                                $25.00       ORDERED\\n                                                                                                                                                Restitution\\n                                                                                                                                                Total Restitution Amount: -\\n                                                                                                                                                Status: -\\n                                                                                                                                                Remarks: -\\n                                                                                                                                                             Payee                        Amount               Court Cases of Defendants Responsible for                   Status\\n                                                                                                                                                                                                                Paying Restitution Jointly and Severally\\n                                                                                                                                                -                             -                            -                                                  -\\n                                                                                                                                                Detailed Court Costs\\n                                                                                                                                                Total Court Cost Amount: $288.00\\n                                                                                                                                                Waive Court Costs: NOT WAIVED\\n                                                                                                                                                                          Cost Category                                                 Amount                             Status\\n                                                                                                                                                GCJF DISTRICT                                                               $127.05                           ORDERED\\n                                                                                                                                                GCJF DISTRICT LAA                                                           $2.45                             ORDERED\\n                                                                                                                                                LEOB RF                                                                     $7.50                             ORDERED\\n                                                                                                                                                LE CERT TRAINING DISTRICT                                                   $2.00                             ORDERED\\n                                                                                                                                                TELEPHONE FEE DISTRICT                                                      $4.00                             ORDERED\\n                                                                                                                                                MCF FEE                                                                     $18.00                            ORDERED\\n                                                                                                                                                CHAPTER 20 VIOLATION FEE DISTRICT                                           $10.00                            ORDERED\\n                                                                                                                                                SERVICE FEE                                                                 $5.00                             ORDERED\\n                                                                                                                                                FACILITIES FEE DISTRICT                                                     $12.00                            ORDERED\\n                                                                                                                                                IMPROPER EQUIPMENT FEE DISTRICT                                             $50.00                            ORDERED\\n                                                                                                                                                FTC 20DF FEE DISTRICT                                                       $50.00                            ORDERED\\n\\n                                                                                                                                                DMV Notification Events\\n                                                                                                                                                     Event Date                        Event Name                   Method of Notification to             Jurisdiction               Offense #\\n                                                                                                                                                                                                                             DMV\\n                                                                                                                                                                       COMPLIANCE TO FAILURE TO\\n                                                                                                                                                09/22/2015                                                        SENT ELECTRONICALLY            DISTRICT COURT                  -\\n                                                                                                                                                                       COMPLY\\n                                                                                                                                                08/10/2015             FAILURE TO COMPLY                          SENT ELECTRONICALLY            DISTRICT COURT                  -\\n                                                                                                                                                07/15/2015             CONVICTION                                 SENT ELECTRONICALLY            DISTRICT COURT                  -\\n                                                                                                                                                Case Event History\\n                                                                                                                                                No case history events were recorded for this case.\\n                                                                                                                                                Disclaimer\\n                                                                                                                                                This document was generated using a North Carolina Administrative Office of the Courts website. The document is intended to be used as a\\n                                                                                                                                                resource to determine the general status of historical and in-process court cases. This information is not the official record of the court. As\\n                                                                                                                                                such, it should only be used to gain a general understanding of a case's history and disposition. Accordingly, the North Carolina Administrative\\n                                                                                                                                                Office of the Courts, the office of the Clerk of Superior Court, their officials and employees are not responsible or liable for any loss,\\n                                                                                                                                                consequence, or damage resulting directly or indirectly from use of the information.\\n\\n\\n\\n\\n                                                                                                                                                Printed on 04/02/2019 at 01:25:53 PM                                    ORANGE 15IF702186                                       Page 3 of 3\\n\\x0c\"},\n",
       " 'General': {'County': 'ORANGE', 'File No': 'Different Fileno'},\n",
       " 'Defendant': {'Sex': 'M',\n",
       "  'Name': 'DANIEL PATRICK BOWES',\n",
       "  'Race': 'WHITE',\n",
       "  'Date of Birth/Estimated Age': '1988-09-10'},\n",
       " 'Offense Record': {'Records': [{'Law': 'G.S. 20-141(B)',\n",
       "    'Code': '4450',\n",
       "    'Action': 'CHARGED',\n",
       "    'Severity': 'INFRACTION',\n",
       "    'Description': 'SPEEDING(80 mph in a 65 mph zone)'},\n",
       "   {'Law': 'G.S. 20-141(B)',\n",
       "    'Code': '4450',\n",
       "    'Action': 'ARRAIGNED',\n",
       "    'Severity': 'INFRACTION',\n",
       "    'Description': 'SPEEDING(80 mph in a 65 mph zone)'},\n",
       "   {'Law': 'G.S. 20-123.2',\n",
       "    'Code': '4418',\n",
       "    'Action': 'CONVICTED',\n",
       "    'Severity': 'INFRACTION',\n",
       "    'Description': 'IMPROPER EQUIP - SPEEDOMETER'}],\n",
       "  'Disposed On': '2015-07-15',\n",
       "  'Disposition Method': 'DISPOSED BY JUDGE'},\n",
       " 'Case Information': {'Case Status': 'DISPOSED',\n",
       "  'Offense Date': '2016-05-17T21:59:00'}}"
      ]
     },
     "execution_count": 27,
     "metadata": {},
     "output_type": "execute_result"
    }
   ],
   "source": [
    "record.data"
   ]
  },
  {
   "cell_type": "code",
   "execution_count": 28,
   "metadata": {},
   "outputs": [],
   "source": [
    "record.data[\"General\"][\"File No\"] = \"Different Fileno\"\n",
    "record.data[\"Case Information\"][\"Offense Date\"] = '2013-05-17T21:59:00'"
   ]
  },
  {
   "cell_type": "code",
   "execution_count": 29,
   "metadata": {},
   "outputs": [],
   "source": [
    "record.save()"
   ]
  },
  {
   "cell_type": "code",
   "execution_count": 25,
   "metadata": {},
   "outputs": [
    {
     "data": {
      "text/plain": [
       "datetime.datetime(2015, 5, 17, 21, 59)"
      ]
     },
     "execution_count": 25,
     "metadata": {},
     "output_type": "execute_result"
    }
   ],
   "source": [
    "record.offense_date\n",
    "datetime.strptime(record.offense_date,'%Y-%m-%dT%H:%M:%S')"
   ]
  },
  {
   "cell_type": "code",
   "execution_count": 17,
   "metadata": {},
   "outputs": [
    {
     "data": {
      "text/plain": [
       "datetime.datetime(2015, 5, 17, 0, 0)"
      ]
     },
     "execution_count": 17,
     "metadata": {},
     "output_type": "execute_result"
    }
   ],
   "source": [
    "from datetime import datetime\n",
    "max([datetime.strptime(record.offense_date,'%m/%d/%Y'),datetime.strptime(record.offense_date,'%m/%d/%Y')])"
   ]
  },
  {
   "cell_type": "code",
   "execution_count": 6,
   "metadata": {},
   "outputs": [
    {
     "data": {
      "text/plain": [
       "'ciprs/cypress-example_RmdMP0h.PDF'"
      ]
     },
     "execution_count": 6,
     "metadata": {},
     "output_type": "execute_result"
    }
   ],
   "source": [
    "record.report_pdf.name"
   ]
  },
  {
   "cell_type": "code",
   "execution_count": null,
   "metadata": {},
   "outputs": [],
   "source": []
  },
  {
   "cell_type": "code",
   "execution_count": 7,
   "metadata": {},
   "outputs": [],
   "source": [
    "from django.core.files.storage import get_storage_class"
   ]
  },
  {
   "cell_type": "code",
   "execution_count": 8,
   "metadata": {},
   "outputs": [],
   "source": [
    "storage = get_storage_class()()"
   ]
  },
  {
   "cell_type": "code",
   "execution_count": 9,
   "metadata": {},
   "outputs": [
    {
     "data": {
      "text/plain": [
       "'/app/dear_petition/media'"
      ]
     },
     "execution_count": 9,
     "metadata": {},
     "output_type": "execute_result"
    }
   ],
   "source": [
    "storage.location"
   ]
  },
  {
   "cell_type": "code",
   "execution_count": 10,
   "metadata": {},
   "outputs": [
    {
     "data": {
      "text/plain": [
       "'/app/dear_petition/media/ciprs/cypress-example_RmdMP0h.PDF'"
      ]
     },
     "execution_count": 10,
     "metadata": {},
     "output_type": "execute_result"
    }
   ],
   "source": [
    "path = os.path.join(storage.location, record.report_pdf.name)\n",
    "path"
   ]
  },
  {
   "cell_type": "code",
   "execution_count": 11,
   "metadata": {},
   "outputs": [],
   "source": []
  },
  {
   "cell_type": "code",
   "execution_count": 12,
   "metadata": {},
   "outputs": [],
   "source": []
  },
  {
   "cell_type": "code",
   "execution_count": 13,
   "metadata": {},
   "outputs": [
    {
     "data": {
      "text/plain": [
       "'{\\n    \"General\": {\\n        \"County\": \"ORANGE\",\\n        \"File No\": \"15IF702186\"\\n    },\\n    \"Case Information\": {\\n        \"Case Status\": \"DISPOSED\",\\n        \"Offense Date\": \"2015-05-17T21:59:00\"\\n    },\\n    \"Defendant\": {\\n        \"Date of Birth/Estimated Age\": \"1988-09-10\",\\n        \"Name\": \"BOWES,DANIEL,PATRICK\",\\n        \"Race\": \"WHITE\",\\n        \"Sex\": \"MALE\"\\n    },\\n    \"Offense Record\": {\\n        \"Records\": [\\n            {\\n                \"Action\": \"CHARGED\",\\n                \"Description\": \"SPEEDING(80 mph in a 65 mph zone)\",\\n                \"Severity\": \"INFRACTION\",\\n                \"Law\": \"G.S. 20-141(B)\",\\n                \"Code\": \"4450\"\\n            },\\n            {\\n                \"Action\": \"ARRAIGNED\",\\n                \"Description\": \"SPEEDING(80 mph in a 65 mph zone)\",\\n                \"Severity\": \"INFRACTION\",\\n                \"Law\": \"G.S. 20-141(B)\",\\n                \"Code\": \"4450\"\\n            },\\n            {\\n                \"Action\": \"CONVICTED\",\\n                \"Description\": \"IMPROPER EQUIP - SPEEDOMETER\",\\n                \"Severity\": \"INFRACTION\",\\n                \"Law\": \"G.S. 20-123.2\",\\n                \"Code\": \"4418\"\\n            }\\n        ],\\n        \"Disposed On\": \"2015-07-15\",\\n        \"Disposition Method\": \"DISPOSED BY JUDGE\"\\n    }\\n}'"
      ]
     },
     "execution_count": 13,
     "metadata": {},
     "output_type": "execute_result"
    }
   ],
   "source": [
    "\n",
    "reader.json()"
   ]
  },
  {
   "cell_type": "code",
   "execution_count": 20,
   "metadata": {},
   "outputs": [],
   "source": [
    "import tempfile\n",
    "import json\n",
    "from django.core.files.storage import FileSystemStorage\n",
    "import subprocess\n",
    "import logging"
   ]
  },
  {
   "cell_type": "code",
   "execution_count": 23,
   "metadata": {},
   "outputs": [],
   "source": [
    "logger = logging.getLogger('test')\n",
    "\n",
    "with tempfile.TemporaryDirectory(prefix='ciprs-') as tmp_folder:\n",
    "    storage = FileSystemStorage(location=tmp_folder)\n",
    "    storage.save('record.pdf', record.report_pdf)\n",
    "    saved_file_path = os.path.join(storage.location, 'record.pdf')\n",
    "    reader = ciprs_reader.PDFToTextReader(saved_file_path)\n",
    "    try:\n",
    "        reader.parse()\n",
    "        record.data = json.loads(reader.json())\n",
    "    except subprocess.CalledProcessError as e:\n",
    "        logger.exception(e)\n",
    "        record.data = {'error': str(e)}\n",
    "    finally:\n",
    "        record.save()"
   ]
  },
  {
   "cell_type": "code",
   "execution_count": 22,
   "metadata": {},
   "outputs": [
    {
     "data": {
      "text/plain": [
       "{'error': \"Command 'pdftotext -layout -enc UTF-8 /tmp/ciprs-jkdul6kk/record.pdfa -' returned non-zero exit status 1.\"}"
      ]
     },
     "execution_count": 22,
     "metadata": {},
     "output_type": "execute_result"
    }
   ],
   "source": [
    "record.data"
   ]
  },
  {
   "cell_type": "code",
   "execution_count": 53,
   "metadata": {},
   "outputs": [],
   "source": [
    "record.data = None\n",
    "record.save()"
   ]
  },
  {
   "cell_type": "code",
   "execution_count": 8,
   "metadata": {},
   "outputs": [
    {
     "data": {
      "text/plain": [
       "{'General': {'County': 'ORANGE', 'File No': '15IF702186'},\n",
       " 'Case Information': {'Case Status': 'DISPOSED',\n",
       "  'Offense Date': '2015-05-17T21:59:00'},\n",
       " 'Defendant': {'Date of Birth/Estimated Age': '1988-09-10',\n",
       "  'Name': 'BOWES,DANIEL,PATRICK',\n",
       "  'Race': 'WHITE',\n",
       "  'Sex': 'MALE'},\n",
       " 'Offense Record': {'Records': [{'Action': 'CHARGED',\n",
       "    'Description': 'SPEEDING(80 mph in a 65 mph zone)',\n",
       "    'Severity': 'INFRACTION',\n",
       "    'Law': 'G.S. 20-141(B)',\n",
       "    'Code': '4450'},\n",
       "   {'Action': 'ARRAIGNED',\n",
       "    'Description': 'SPEEDING(80 mph in a 65 mph zone)',\n",
       "    'Severity': 'INFRACTION',\n",
       "    'Law': 'G.S. 20-141(B)',\n",
       "    'Code': '4450'},\n",
       "   {'Action': 'CONVICTED',\n",
       "    'Description': 'IMPROPER EQUIP - SPEEDOMETER',\n",
       "    'Severity': 'INFRACTION',\n",
       "    'Law': 'G.S. 20-123.2',\n",
       "    'Code': '4418'}],\n",
       "  'Disposed On': '2015-07-15',\n",
       "  'Disposition Method': 'DISPOSED BY JUDGE'}}"
      ]
     },
     "execution_count": 8,
     "metadata": {},
     "output_type": "execute_result"
    }
   ],
   "source": [
    "json.loads(record.data)"
   ]
  },
  {
   "cell_type": "code",
   "execution_count": 43,
   "metadata": {},
   "outputs": [
    {
     "data": {
      "text/plain": [
       "'/tmp/ciprs-mhezuxip'"
      ]
     },
     "execution_count": 43,
     "metadata": {},
     "output_type": "execute_result"
    }
   ],
   "source": [
    "storage.location"
   ]
  },
  {
   "cell_type": "code",
   "execution_count": 44,
   "metadata": {},
   "outputs": [
    {
     "data": {
      "text/plain": [
       "'ciprs.pdf'"
      ]
     },
     "execution_count": 44,
     "metadata": {},
     "output_type": "execute_result"
    }
   ],
   "source": [
    "storage.save('ciprs.pdf', record.report_pdf)"
   ]
  },
  {
   "cell_type": "code",
   "execution_count": 3,
   "metadata": {},
   "outputs": [],
   "source": [
    "from django.urls import reverse"
   ]
  },
  {
   "cell_type": "code",
   "execution_count": 5,
   "metadata": {},
   "outputs": [
    {
     "data": {
      "text/plain": [
       "'/admin/petition/ciprsrecord/'"
      ]
     },
     "execution_count": 5,
     "metadata": {},
     "output_type": "execute_result"
    }
   ],
   "source": [
    "reverse('admin:petition_ciprsrecord_changelist')"
   ]
  },
  {
   "cell_type": "code",
   "execution_count": null,
   "metadata": {},
   "outputs": [],
   "source": []
  }
 ],
 "metadata": {
  "kernelspec": {
   "display_name": "Python 3",
   "language": "python",
   "name": "python3"
  },
  "language_info": {
   "codemirror_mode": {
    "name": "ipython",
    "version": 3
   },
   "file_extension": ".py",
   "mimetype": "text/x-python",
   "name": "python",
   "nbconvert_exporter": "python",
   "pygments_lexer": "ipython3",
   "version": "3.6.8"
  }
 },
 "nbformat": 4,
 "nbformat_minor": 2
}
