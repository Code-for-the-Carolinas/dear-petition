{
 "cells": [
  {
   "cell_type": "code",
   "execution_count": 1,
   "metadata": {},
   "outputs": [],
   "source": [
    "import os\n",
    "import sys\n",
    "sys.path.append('..')\n",
    "\n",
    "os.environ.setdefault(\"DJANGO_SETTINGS_MODULE\", \"config.settings.local\")\n",
    "\n",
    "import django\n",
    "django.setup()"
   ]
  },
  {
   "cell_type": "code",
   "execution_count": 2,
   "metadata": {},
   "outputs": [],
   "source": [
    "import ciprs_reader"
   ]
  },
  {
   "cell_type": "code",
   "execution_count": 3,
   "metadata": {},
   "outputs": [],
   "source": [
    "from dear_petition.petition.models import CIPRSRecord"
   ]
  },
  {
   "cell_type": "code",
   "execution_count": 4,
   "metadata": {},
   "outputs": [],
   "source": [
    "record = CIPRSRecord.objects.all()[0]"
   ]
  },
  {
   "cell_type": "code",
   "execution_count": 5,
   "metadata": {},
   "outputs": [
    {
     "data": {
      "text/plain": [
       "<CIPRSRecord: CIPRSRecord object (2)>"
      ]
     },
     "execution_count": 5,
     "metadata": {},
     "output_type": "execute_result"
    }
   ],
   "source": [
    "record"
   ]
  },
  {
   "cell_type": "code",
   "execution_count": 6,
   "metadata": {},
   "outputs": [
    {
     "data": {
      "text/plain": [
       "'ciprs/cypress-example_RmdMP0h.PDF'"
      ]
     },
     "execution_count": 6,
     "metadata": {},
     "output_type": "execute_result"
    }
   ],
   "source": [
    "record.report_pdf.name"
   ]
  },
  {
   "cell_type": "code",
   "execution_count": 7,
   "metadata": {},
   "outputs": [],
   "source": [
    "from django.core.files.storage import get_storage_class"
   ]
  },
  {
   "cell_type": "code",
   "execution_count": 8,
   "metadata": {},
   "outputs": [],
   "source": [
    "storage = get_storage_class()()"
   ]
  },
  {
   "cell_type": "code",
   "execution_count": 9,
   "metadata": {},
   "outputs": [
    {
     "data": {
      "text/plain": [
       "'/app/dear_petition/media'"
      ]
     },
     "execution_count": 9,
     "metadata": {},
     "output_type": "execute_result"
    }
   ],
   "source": [
    "storage.location"
   ]
  },
  {
   "cell_type": "code",
   "execution_count": 10,
   "metadata": {},
   "outputs": [
    {
     "data": {
      "text/plain": [
       "'/app/dear_petition/media/ciprs/cypress-example_RmdMP0h.PDF'"
      ]
     },
     "execution_count": 10,
     "metadata": {},
     "output_type": "execute_result"
    }
   ],
   "source": [
    "path = os.path.join(storage.location, record.report_pdf.name)\n",
    "path"
   ]
  },
  {
   "cell_type": "code",
   "execution_count": 11,
   "metadata": {},
   "outputs": [],
   "source": []
  },
  {
   "cell_type": "code",
   "execution_count": 12,
   "metadata": {},
   "outputs": [],
   "source": []
  },
  {
   "cell_type": "code",
   "execution_count": 13,
   "metadata": {},
   "outputs": [
    {
     "data": {
      "text/plain": [
       "'{\\n    \"General\": {\\n        \"County\": \"ORANGE\",\\n        \"File No\": \"15IF702186\"\\n    },\\n    \"Case Information\": {\\n        \"Case Status\": \"DISPOSED\",\\n        \"Offense Date\": \"2015-05-17T21:59:00\"\\n    },\\n    \"Defendant\": {\\n        \"Date of Birth/Estimated Age\": \"1988-09-10\",\\n        \"Name\": \"BOWES,DANIEL,PATRICK\",\\n        \"Race\": \"WHITE\",\\n        \"Sex\": \"MALE\"\\n    },\\n    \"Offense Record\": {\\n        \"Records\": [\\n            {\\n                \"Action\": \"CHARGED\",\\n                \"Description\": \"SPEEDING(80 mph in a 65 mph zone)\",\\n                \"Severity\": \"INFRACTION\",\\n                \"Law\": \"G.S. 20-141(B)\",\\n                \"Code\": \"4450\"\\n            },\\n            {\\n                \"Action\": \"ARRAIGNED\",\\n                \"Description\": \"SPEEDING(80 mph in a 65 mph zone)\",\\n                \"Severity\": \"INFRACTION\",\\n                \"Law\": \"G.S. 20-141(B)\",\\n                \"Code\": \"4450\"\\n            },\\n            {\\n                \"Action\": \"CONVICTED\",\\n                \"Description\": \"IMPROPER EQUIP - SPEEDOMETER\",\\n                \"Severity\": \"INFRACTION\",\\n                \"Law\": \"G.S. 20-123.2\",\\n                \"Code\": \"4418\"\\n            }\\n        ],\\n        \"Disposed On\": \"2015-07-15\",\\n        \"Disposition Method\": \"DISPOSED BY JUDGE\"\\n    }\\n}'"
      ]
     },
     "execution_count": 13,
     "metadata": {},
     "output_type": "execute_result"
    }
   ],
   "source": [
    "\n",
    "reader.json()"
   ]
  },
  {
   "cell_type": "code",
   "execution_count": 20,
   "metadata": {},
   "outputs": [],
   "source": [
    "import tempfile\n",
    "import json\n",
    "from django.core.files.storage import FileSystemStorage\n",
    "import subprocess\n",
    "import logging"
   ]
  },
  {
   "cell_type": "code",
   "execution_count": 23,
   "metadata": {},
   "outputs": [],
   "source": [
    "logger = logging.getLogger('test')\n",
    "\n",
    "with tempfile.TemporaryDirectory(prefix='ciprs-') as tmp_folder:\n",
    "    storage = FileSystemStorage(location=tmp_folder)\n",
    "    storage.save('record.pdf', record.report_pdf)\n",
    "    saved_file_path = os.path.join(storage.location, 'record.pdf')\n",
    "    reader = ciprs_reader.PDFToTextReader(saved_file_path)\n",
    "    try:\n",
    "        reader.parse()\n",
    "        record.data = json.loads(reader.json())\n",
    "    except subprocess.CalledProcessError as e:\n",
    "        logger.exception(e)\n",
    "        record.data = {'error': str(e)}\n",
    "    finally:\n",
    "        record.save()"
   ]
  },
  {
   "cell_type": "code",
   "execution_count": 22,
   "metadata": {},
   "outputs": [
    {
     "data": {
      "text/plain": [
       "{'error': \"Command 'pdftotext -layout -enc UTF-8 /tmp/ciprs-jkdul6kk/record.pdfa -' returned non-zero exit status 1.\"}"
      ]
     },
     "execution_count": 22,
     "metadata": {},
     "output_type": "execute_result"
    }
   ],
   "source": [
    "record.data"
   ]
  },
  {
   "cell_type": "code",
   "execution_count": 53,
   "metadata": {},
   "outputs": [],
   "source": [
    "record.data = None\n",
    "record.save()"
   ]
  },
  {
   "cell_type": "code",
   "execution_count": 8,
   "metadata": {},
   "outputs": [
    {
     "data": {
      "text/plain": [
       "{'General': {'County': 'ORANGE', 'File No': '15IF702186'},\n",
       " 'Case Information': {'Case Status': 'DISPOSED',\n",
       "  'Offense Date': '2015-05-17T21:59:00'},\n",
       " 'Defendant': {'Date of Birth/Estimated Age': '1988-09-10',\n",
       "  'Name': 'BOWES,DANIEL,PATRICK',\n",
       "  'Race': 'WHITE',\n",
       "  'Sex': 'MALE'},\n",
       " 'Offense Record': {'Records': [{'Action': 'CHARGED',\n",
       "    'Description': 'SPEEDING(80 mph in a 65 mph zone)',\n",
       "    'Severity': 'INFRACTION',\n",
       "    'Law': 'G.S. 20-141(B)',\n",
       "    'Code': '4450'},\n",
       "   {'Action': 'ARRAIGNED',\n",
       "    'Description': 'SPEEDING(80 mph in a 65 mph zone)',\n",
       "    'Severity': 'INFRACTION',\n",
       "    'Law': 'G.S. 20-141(B)',\n",
       "    'Code': '4450'},\n",
       "   {'Action': 'CONVICTED',\n",
       "    'Description': 'IMPROPER EQUIP - SPEEDOMETER',\n",
       "    'Severity': 'INFRACTION',\n",
       "    'Law': 'G.S. 20-123.2',\n",
       "    'Code': '4418'}],\n",
       "  'Disposed On': '2015-07-15',\n",
       "  'Disposition Method': 'DISPOSED BY JUDGE'}}"
      ]
     },
     "execution_count": 8,
     "metadata": {},
     "output_type": "execute_result"
    }
   ],
   "source": [
    "json.loads(record.data)"
   ]
  },
  {
   "cell_type": "code",
   "execution_count": 43,
   "metadata": {},
   "outputs": [
    {
     "data": {
      "text/plain": [
       "'/tmp/ciprs-mhezuxip'"
      ]
     },
     "execution_count": 43,
     "metadata": {},
     "output_type": "execute_result"
    }
   ],
   "source": [
    "storage.location"
   ]
  },
  {
   "cell_type": "code",
   "execution_count": 44,
   "metadata": {},
   "outputs": [
    {
     "data": {
      "text/plain": [
       "'ciprs.pdf'"
      ]
     },
     "execution_count": 44,
     "metadata": {},
     "output_type": "execute_result"
    }
   ],
   "source": [
    "storage.save('ciprs.pdf', record.report_pdf)"
   ]
  },
  {
   "cell_type": "code",
   "execution_count": 3,
   "metadata": {},
   "outputs": [],
   "source": [
    "from django.urls import reverse"
   ]
  },
  {
   "cell_type": "code",
   "execution_count": 5,
   "metadata": {},
   "outputs": [
    {
     "data": {
      "text/plain": [
       "'/admin/petition/ciprsrecord/'"
      ]
     },
     "execution_count": 5,
     "metadata": {},
     "output_type": "execute_result"
    }
   ],
   "source": [
    "reverse('admin:petition_ciprsrecord_changelist')"
   ]
  },
  {
   "cell_type": "code",
   "execution_count": null,
   "metadata": {},
   "outputs": [],
   "source": []
  }
 ],
 "metadata": {
  "kernelspec": {
   "display_name": "Python 3",
   "language": "python",
   "name": "python3"
  },
  "language_info": {
   "codemirror_mode": {
    "name": "ipython",
    "version": 3
   },
   "file_extension": ".py",
   "mimetype": "text/x-python",
   "name": "python",
   "nbconvert_exporter": "python",
   "pygments_lexer": "ipython3",
   "version": "3.6.8"
  }
 },
 "nbformat": 4,
 "nbformat_minor": 2
}
