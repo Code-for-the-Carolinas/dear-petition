{
 "cells": [
  {
   "cell_type": "markdown",
   "metadata": {},
   "source": [
    "# Cypress PDF - Text Extraction Exploration\n",
    "\n",
    "Code for Durham"
   ]
  },
  {
   "cell_type": "code",
   "execution_count": 1,
   "metadata": {},
   "outputs": [],
   "source": [
    "import os\n",
    "import re\n",
    "import pdfrw\n",
    "import pdf_redactor\n",
    "import pprint\n",
    "\n",
    "import pdfminer"
   ]
  },
  {
   "cell_type": "code",
   "execution_count": 2,
   "metadata": {},
   "outputs": [],
   "source": [
    "def uncompress(pages):\n",
    "    \"\"\"Text content must be uncompressed before reading\"\"\"\n",
    "    for page in pages:\n",
    "        for content in page.Contents:\n",
    "            pdfrw.uncompress.uncompress([content])"
   ]
  },
  {
   "cell_type": "code",
   "execution_count": 3,
   "metadata": {},
   "outputs": [],
   "source": [
    "# Path to original example Cypress PDF\n",
    "CYPRESS_PATH = 'ignore/cypress-example.PDF'"
   ]
  },
  {
   "cell_type": "code",
   "execution_count": 4,
   "metadata": {},
   "outputs": [],
   "source": [
    "# Path to externally uncompressed version of Cypress PDF using:\n",
    "#   qpdf --stream-data=uncompress --object-streams=disable notebooks/ignore/cypress-example.PDF notebooks/ignore/cypress-example.unc.pdf\n",
    "CYPRESS_PATH_UNC = 'ignore/cypress-example.unc.PDF'"
   ]
  },
  {
   "cell_type": "code",
   "execution_count": 5,
   "metadata": {},
   "outputs": [],
   "source": [
    "pdf = pdfrw.PdfReader(CYPRESS_PATH)\n",
    "pdf_unc = pdfrw.PdfReader(CYPRESS_PATH_UNC)\n",
    "uncompress(pdf.pages)"
   ]
  },
  {
   "cell_type": "code",
   "execution_count": 6,
   "metadata": {},
   "outputs": [],
   "source": [
    "page0 = pdf.pages[0].Contents[1].stream\n",
    "page1 = pdf.pages[1].Contents[1].stream\n",
    "page2 = pdf.pages[1].Contents[1].stream"
   ]
  },
  {
   "cell_type": "code",
   "execution_count": 7,
   "metadata": {},
   "outputs": [
    {
     "data": {
      "text/plain": [
       "\"q\\nq\\n0 1 -1 0 16 800 cm\\nBT\\n1 0 0 1 -756.57 0 Tm\\n/F1 12 Tf\\n0.45 g\\n(Not a certified copy. ~ Not a certified copy. ~ Not a certified copy. ~ Not a certified copy. ~ Not a certified copy. ~ Not a certified copy.)Tj\\n0 g\\nET\\nQ\\nQ\\nq\\nBT\\n28 771 Td\\n0 -66.5 Td\\nET\\nQ\\nq\\n1.5 w\\n28 747 m\\n600 747 l\\nS\\nQ\\nq\\n1.2 w\\n28 714 m\\n600 714 l\\nS\\nQ\\nq\\nQ\\nq\\n2 J\\n0 G\\nQ\\nq 220 0 0 17.5 28 753.5 cm /img1 Do Q\\nBT\\n1 0 0 1 28 753.5 Tm\\n220 0 Td\\n-220 0 Td\\nET\\nq 132.5 0 0 17.5 469.5 753.5 cm /img3 Do Q\\nBT\\n1 0 0 1 469.5 753.5 Tm\\n132.5 0 Td\\n-132.5 0 Td\\nET\\nBT\\n1 0 0 1 150.84 732.5 Tm\\n/F1 14 Tf\\n(Case Details for Court Case ORANGE 15IF702186)Tj\\nET\\nBT\\n1 0 0 1 208.65 716.5 Tm\\n/F1 12 Tf\\n(Defendant: )Tj\\n/F2 12 Tf\\n(BOWES,DANIEL,PATRICK)Tj\\nET\\nq\\n0.82353 0.82353 0.82353 rg\\n28 696 574 16 re\\nf\\nQ\\nq\\n2 J\\n0 G\\nQ\\nBT\\n1 0 0 1 30 698 Tm\\n/F1 12 Tf\\n(Case Information)Tj\\nET\\nq\\nQ\\nq\\n2 J\\n0 G\\nQ\\nBT\\n1 0 0 1 30 681 Tm\\n/F1 9 Tf\\n(Case Record Was Last Updated: )Tj\\n/F2 9 Tf\\n(09/22/2015)Tj\\nET\\nBT\\n1 0 0 1 30 668 Tm\\n/F1 9 Tf\\n(Case Status: )Tj\\n/F2 9 Tf\\n(DISPOSED)Tj\\nET\\nBT\\n1 0 0 1 30 655 Tm\\n/F1 9 Tf\\n(Microfilm Number: )Tj\\n/F2 9 Tf\\n(-)Tj\\nET\\nBT\\n1 0 0 1 30 642 Tm\\n/F1 9 Tf\\n(Case Was Reinstated: )Tj\\n/F2 9 Tf\\n(-)Tj\\nET\\nBT\\n1 0 0 1 30 629 Tm\\n/F1 9 Tf\\n(Jurisdiction: )Tj\\n/F2 9 Tf\\n(DISTRICT COURT)Tj\\nET\\nBT\\n1 0 0 1 30 616 Tm\\n/F1 9 Tf\\n(Citation Number: )Tj\\n/F2 9 Tf\\n(8878F91)Tj\\nET\\nBT\\n1 0 0 1 30 603 Tm\\n/F1 9 Tf\\n(Originating Case \\\\(OCA\\\\) or Incident)Tj\\nET\\nBT\\n1 0 0 1 30 590 Tm\\n/F1 9 Tf\\n(\\x95   Agency: )Tj\\n/F2 9 Tf\\n(-)Tj\\nET\\nBT\\n1 0 0 1 30 577 Tm\\n/F1 9 Tf\\n(\\x95   Number: )Tj\\n/F2 9 Tf\\n(-)Tj\\nET\\nBT\\n1 0 0 1 30 560 Tm\\n/F1 9 Tf\\n(Process Type in District Court: )Tj\\n/F2 9 Tf\\n(CITATION)Tj\\nET\\nBT\\n1 0 0 1 30 547 Tm\\n/F1 9 Tf\\n(Process Type in Superior Court: )Tj\\n/F2 9 Tf\\n(-)Tj\\nET\\nBT\\n1 0 0 1 30 530 Tm\\n/F1 9 Tf\\n(Domestic Violence General Statute \\\\(G.S. 50B\\\\) Applies to)Tj\\nET\\nBT\\n1 0 0 1 30 517 Tm\\n/F1 9 Tf\\n(\\x95   Charged Offenses: )Tj\\n/F2 9 Tf\\n(NO)Tj\\nET\\nBT\\n1 0 0 1 30 504 Tm\\n/F1 9 Tf\\n(\\x95   Offenses Convicted in District Court: )Tj\\n/F2 9 Tf\\n(NO)Tj\\nET\\nBT\\n1 0 0 1 30 491 Tm\\n/F1 9 Tf\\n(Crime Victim's Rights Act \\\\(G.S. \""
      ]
     },
     "execution_count": 7,
     "metadata": {},
     "output_type": "execute_result"
    }
   ],
   "source": [
    "page0[:2000]"
   ]
  },
  {
   "cell_type": "markdown",
   "metadata": {},
   "source": [
    "## Using pdf_redactor"
   ]
  },
  {
   "cell_type": "code",
   "execution_count": 8,
   "metadata": {},
   "outputs": [],
   "source": [
    "data = {}\n",
    "tokens = list(pdf_redactor.build_text_layer(pdf, None))"
   ]
  },
  {
   "cell_type": "code",
   "execution_count": 9,
   "metadata": {},
   "outputs": [
    {
     "data": {
      "text/plain": [
       "[Token<'Not a certified copy. ~ Not a certified copy. ~ Not a certified copy. ~ Not a certified copy. ~ Not a certified copy. ~ Not a certified copy.'>,\n",
       " Token<'Case Details for Court Case ORANGE 15IF702186'>,\n",
       " Token<'Defendant: '>,\n",
       " Token<'BOWES,DANIEL,PATRICK'>,\n",
       " Token<'Case Information'>,\n",
       " Token<'Case Record Was Last Updated: '>,\n",
       " Token<'09/22/2015'>,\n",
       " Token<'Case Status: '>,\n",
       " Token<'DISPOSED'>,\n",
       " Token<'Microfilm Number: '>,\n",
       " Token<'-'>,\n",
       " Token<'Case Was Reinstated: '>,\n",
       " Token<'-'>,\n",
       " Token<'Jurisdiction: '>,\n",
       " Token<'DISTRICT COURT'>,\n",
       " Token<'Citation Number: '>,\n",
       " Token<'8878F91'>,\n",
       " Token<'Originating Case (OCA) or Incident'>,\n",
       " Token<'•   Agency: '>,\n",
       " Token<'-'>]"
      ]
     },
     "execution_count": 9,
     "metadata": {},
     "output_type": "execute_result"
    }
   ],
   "source": [
    "tokens[0][:20]"
   ]
  },
  {
   "cell_type": "markdown",
   "metadata": {},
   "source": [
    "## Using manual text searching w/ RegEx"
   ]
  },
  {
   "cell_type": "code",
   "execution_count": 10,
   "metadata": {},
   "outputs": [],
   "source": [
    "data = {}"
   ]
  },
  {
   "cell_type": "code",
   "execution_count": 11,
   "metadata": {},
   "outputs": [],
   "source": [
    "# DEFENDANT\n",
    "# Text: (Defendant: )Tj\\n/F2 12 Tf\\n(BOWES,DANIEL,PATRICK)Tj\\n\n",
    "defendant_re = r'\\(Defendant: \\)Tj\\n/F2 12 Tf\\n\\(([\\w,]+)\\)Tj\\n'\n",
    "match = re.search(defendant_re, page0)\n",
    "data['defendant'] = match.group(1)"
   ]
  },
  {
   "cell_type": "code",
   "execution_count": 12,
   "metadata": {},
   "outputs": [],
   "source": [
    "# CASE STATUS\n",
    "# Text: (Case Status: )Tj\\n/F2 9 Tf\\n(DISPOSED)Tj\\n\n",
    "case_status_re = r'\\(Case Status: \\)Tj\\n/F2 9 Tf\\n\\(([\\w,]+)\\)Tj\\n'\n",
    "match = re.search(case_status_re, page0)\n",
    "data['case_status'] = match.group(1)"
   ]
  },
  {
   "cell_type": "code",
   "execution_count": 13,
   "metadata": {},
   "outputs": [],
   "source": [
    "# DATE OF BIRTH\n",
    "# Text: (Date of Birth/Estimated Age:)Tj\\nET\\nBT\\n1 0 0 1 30 172 Tm\\n/F2 9 Tf\\n(09/10/1988)Tj\\n\n",
    "dob_re = r'\\(Date of Birth/Estimated Age:\\)Tj\\nET\\nBT\\n1 0 0 1 30 172 Tm\\n/F2 9 Tf\\n\\(([\\w/]+)\\)Tj\\n'\n",
    "match = re.search(dob_re, page0)\n",
    "data['dob'] = match.group(1)"
   ]
  },
  {
   "cell_type": "code",
   "execution_count": 14,
   "metadata": {},
   "outputs": [
    {
     "data": {
      "text/plain": [
       "{'defendant': 'BOWES,DANIEL,PATRICK',\n",
       " 'case_status': 'DISPOSED',\n",
       " 'dob': '09/10/1988'}"
      ]
     },
     "execution_count": 14,
     "metadata": {},
     "output_type": "execute_result"
    }
   ],
   "source": [
    "data"
   ]
  },
  {
   "cell_type": "markdown",
   "metadata": {},
   "source": [
    "## pdfminer"
   ]
  },
  {
   "cell_type": "code",
   "execution_count": 15,
   "metadata": {},
   "outputs": [],
   "source": [
    "from pdfminer.pdfinterp import PDFResourceManager, PDFPageInterpreter\n",
    "from pdfminer.converter import TextConverter, HTMLConverter\n",
    "from pdfminer.layout import LAParams\n",
    "from pdfminer.pdfpage import PDFPage\n",
    "from io import StringIO\n",
    "\n",
    "def convert_pdf_to_txt(path):\n",
    "    rsrcmgr = PDFResourceManager()\n",
    "    retstr = StringIO()\n",
    "    codec = 'utf-8'\n",
    "    laparams = LAParams()\n",
    "    device = TextConverter(rsrcmgr, retstr, codec=codec, laparams=laparams)\n",
    "    fp = open(path, 'rb')\n",
    "    interpreter = PDFPageInterpreter(rsrcmgr, device)\n",
    "    password = \"\"\n",
    "    maxpages = 0\n",
    "    caching = True\n",
    "    pagenos=set()\n",
    "\n",
    "    for page in PDFPage.get_pages(fp, pagenos, maxpages=maxpages, password=password,caching=caching, check_extractable=True):\n",
    "        interpreter.process_page(page)\n",
    "\n",
    "    text = retstr.getvalue()\n",
    "\n",
    "    fp.close()\n",
    "    device.close()\n",
    "    retstr.close()\n",
    "    return text"
   ]
  },
  {
   "cell_type": "code",
   "execution_count": 16,
   "metadata": {},
   "outputs": [
    {
     "data": {
      "text/plain": [
       "\".\\n\\ny\\np\\no\\nc\\nd\\ne\\n\\n \\n\\ni\\nf\\ni\\nt\\nr\\ne\\nc\\na\\n\\n \\n\\n \\nt\\no\\nN\\n~\\n\\n \\n\\n \\n.\\n\\n \\n\\ny\\np\\no\\nc\\nd\\ne\\ni\\nf\\ni\\nt\\nr\\ne\\nc\\na\\n\\n \\n\\n \\nt\\no\\nN\\n~\\n\\n \\n\\n \\n.\\n\\n \\n\\ny\\np\\no\\nc\\nd\\ne\\ni\\nf\\ni\\nt\\nr\\ne\\nc\\n \\na\\n \\nt\\no\\nN\\n~\\n\\n \\n\\n \\n.\\ny\\np\\no\\nc\\n \\nd\\ne\\ni\\nf\\ni\\nt\\nr\\ne\\nc\\n \\na\\n \\nt\\no\\nN\\n~\\n\\n \\n\\n \\n.\\ny\\np\\no\\nc\\n \\nd\\ne\\n\\ni\\nf\\ni\\nt\\nr\\ne\\nc\\n\\n \\n\\na\\n\\n \\nt\\no\\nN\\n~\\n\\n \\n\\n \\n.\\n\\ny\\np\\no\\nc\\nd\\ne\\n\\n \\n\\ni\\nf\\ni\\nt\\nr\\ne\\nc\\n\\n \\n\\na\\n \\nt\\no\\nN\\n\\nCase Details for Court Case ORANGE 15IF702186\\n\\nDefendant: BOWES,DANIEL,PATRICK\\n\\nCase Information\\nCase Record Was Last Updated: 09/22/2015\\nCase Status: DISPOSED\\nMicrofilm Number: -\\nCase Was Reinstated: -\\nJurisdiction: DISTRICT COURT\\nCitation Number: 8878F91\\nOriginating Case (OCA) or Incident\\n•   Agency: -\\n•   Number: -\\n\\nProcess Type in District Court: CITATION\\nProcess Type in Superior Court: -\\n\\nDomestic Violence General Statute (G.S. 50B) Applies to\\n•   Charged Offenses: NO\\n•   Offenses Convicted in District Court: NO\\nCrime Victim's Rights Act (G.S. 15A-830) Applies: NO\\n\\nInterpreter Used: -\\nCase Notes: -\\nCase Officials\\nProsecuting Attorney\\n•   Assigned on: 07/15/2015\\n•   Initials: JLN\\n•   Name: NIEMAN,JEFFREY,LARKIN\\nArrest and Release Information\\nNo arrest information was recorded for this case.\\nViolation of Court Orders\\n\\nCash Bond Was Forfeited on: -\\nOutstanding Order for Arrest Exists: NO\\nTerms of Probation Were Violated: NO\\nFailed to Comply with Ordered Payment within Grace\\nPeriod: YES\\nOrder to Show Cause Exists: NO\\nDefendant\\nName: BOWES,DANIEL,PATRICK\\nAlias Names:(cid:9)\\nDate of Birth/Estimated Age:\\n09/10/1988\\nRace: WHITE\\nSex: MALE\\nAddress: 1030 SUNNYVIEW CIR\\n         (cid:9)\\nWitnesses\\n\\n(cid:9)MATTHEWS, NC 28105\\n\\n(cid:9)-\\n\\nOffense Date/Time: 05/17/2015 09:59 PM\\nCase Was Issued on: 05/17/2015\\nCase Was Entered on: 05/18/2015\\nCase Was Served on: 05/17/2015\\n\\nCourt Session\\n•   Date: 07/15/2015\\n•   Session: AM\\n•   Room: -\\n\\nNumber of Times the Case Was Continued\\n•   By the Defense: 1\\n•   By the State: -\\n•   By the Judge: -\\n•   Because the Case Could Not Be Heard on the Scheduled Date: -\\n\\nDefense Attorney\\n•   Type: PRIVATELY RETAINED (SELF)\\n•   Assigned on: 07/15/\""
      ]
     },
     "execution_count": 16,
     "metadata": {},
     "output_type": "execute_result"
    }
   ],
   "source": [
    "pdf_text = convert_pdf_to_txt(CYPRESS_PATH)\n",
    "pdf_text[:2000]"
   ]
  },
  {
   "cell_type": "code",
   "execution_count": 17,
   "metadata": {},
   "outputs": [],
   "source": [
    "miner_data = {}"
   ]
  },
  {
   "cell_type": "code",
   "execution_count": 25,
   "metadata": {},
   "outputs": [],
   "source": [
    "# DEFENDANT\n",
    "# Text: Defendant: BOWES,DANIEL,PATRICK\n",
    "defendant_re = r'Defendant: ([\\w,]+)'\n",
    "match = re.search(defendant_re, pdf_text)\n",
    "miner_data['defendant'] = match.group(1)"
   ]
  },
  {
   "cell_type": "code",
   "execution_count": 26,
   "metadata": {},
   "outputs": [
    {
     "data": {
      "text/plain": [
       "{'defendant': 'BOWES,DANIEL,PATRICK'}"
      ]
     },
     "execution_count": 26,
     "metadata": {},
     "output_type": "execute_result"
    }
   ],
   "source": [
    "miner_data"
   ]
  },
  {
   "cell_type": "code",
   "execution_count": null,
   "metadata": {},
   "outputs": [],
   "source": []
  }
 ],
 "metadata": {
  "kernelspec": {
   "display_name": "Python 3",
   "language": "python",
   "name": "python3"
  },
  "language_info": {
   "codemirror_mode": {
    "name": "ipython",
    "version": 3
   },
   "file_extension": ".py",
   "mimetype": "text/x-python",
   "name": "python",
   "nbconvert_exporter": "python",
   "pygments_lexer": "ipython3",
   "version": "3.6.8"
  }
 },
 "nbformat": 4,
 "nbformat_minor": 2
}
