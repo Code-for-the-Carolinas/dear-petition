{
 "cells": [
  {
   "cell_type": "code",
   "execution_count": 1,
   "metadata": {},
   "outputs": [],
   "source": [
    "import os\n",
    "import re\n",
    "from pdfminer.pdfinterp import PDFResourceManager, PDFPageInterpreter\n",
    "from pdfminer.converter import TextConverter, HTMLConverter\n",
    "from pdfminer.layout import LAParams\n",
    "from pdfminer.pdfpage import PDFPage\n",
    "from io import StringIO"
   ]
  },
  {
   "cell_type": "markdown",
   "metadata": {},
   "source": [
    "## Read from Cypress"
   ]
  },
  {
   "cell_type": "code",
   "execution_count": 2,
   "metadata": {},
   "outputs": [],
   "source": [
    "# Path to original example Cypress PDF\n",
    "CYPRESS_PATH = 'ignore/cypress-example.pdf'"
   ]
  },
  {
   "cell_type": "code",
   "execution_count": 3,
   "metadata": {},
   "outputs": [],
   "source": [
    "def convert_pdf_to_txt(path):\n",
    "    rsrcmgr = PDFResourceManager()\n",
    "    retstr = StringIO()\n",
    "    codec = 'utf-8'\n",
    "    laparams = LAParams()\n",
    "    device = TextConverter(rsrcmgr, retstr, codec=codec, laparams=laparams)\n",
    "    fp = open(path, 'rb')\n",
    "    interpreter = PDFPageInterpreter(rsrcmgr, device)\n",
    "    password = \"\"\n",
    "    maxpages = 0\n",
    "    caching = True\n",
    "    pagenos=set()\n",
    "\n",
    "    for page in PDFPage.get_pages(fp, pagenos, maxpages=maxpages, password=password,caching=caching, check_extractable=True):\n",
    "        interpreter.process_page(page)\n",
    "\n",
    "    text = retstr.getvalue()\n",
    "\n",
    "    fp.close()\n",
    "    device.close()\n",
    "    retstr.close()\n",
    "    return text"
   ]
  },
  {
   "cell_type": "code",
   "execution_count": 4,
   "metadata": {},
   "outputs": [],
   "source": [
    "pdf_text = convert_pdf_to_txt(CYPRESS_PATH)"
   ]
  },
  {
   "cell_type": "markdown",
   "metadata": {},
   "source": [
    "## Data map"
   ]
  },
  {
   "cell_type": "code",
   "execution_count": null,
   "metadata": {},
   "outputs": [],
   "source": [
    "data_dict = {\n",
    "    \"County\": 'Durham',\n",
    "    # File No\n",
    "    \"ConsJdgmntFileNum\": \"CfD-100\",\n",
    "    # Checkboxes: In The General Court of Justice\n",
    "    \"District\": 'Yes',  # Yes == checked\n",
    "    \"Superior\": '',\n",
    "    # Name and Address of Petitioner\n",
    "    \"NamePetitioner\": \"John Doe\",\n",
    "    \"StreetAddr\": \"100 Main St.\",\n",
    "    \"MailAddr\": \"Apt A\",\n",
    "    \"City\": \"Durham\",\n",
    "    \"State\": \"NC\",\n",
    "    \"ZipCode\": \"27701\",\n",
    "    # Drivers License Number\n",
    "    \"DLNo\": \"123456789\",\n",
    "    \"DLState\": \"NC\",\n",
    "    # Race\n",
    "    \"Race\": \"U\",\n",
    "    # Sex\n",
    "    \"Sex\": \"M\",\n",
    "    # Date of Birth\n",
    "    \"DOB\": \"1/1/2000\",\n",
    "    # Full Social Security Number\n",
    "    \"SNN\": '111-11-1111',\n",
    "    # Age At Time of Offense\n",
    "    \"Age\": '18',\n",
    "    # Name and Address of Petitioners Attorney\n",
    "    \"NameAtty\": \"Arnetta Herring\",\n",
    "    \"StAddrAtty\": \"510 Dillard Street, 6th Fl\",\n",
    "    \"MailAddrAtty\": \"Suite 6400\",\n",
    "    \"CityAtty\": \"Durham\",\n",
    "    \"StateAtty\": \"NC\",\n",
    "    \"ZipCodeAtty\": \"27701\",\n",
    "    \n",
    "    \n",
    "    \n",
    "#    'customer_name': 'company.io',\n",
    "#    'customer_email': 'joe@company.io',\n",
    "#    'invoice_number': '102394',\n",
    "#    'send_date': '2018-02-13',\n",
    "#    'due_date': '2018-03-13',\n",
    "#    'note_contents': 'Thank you for your business, Joe',\n",
    "#    'item_1': 'Data consulting services',\n",
    "#    'item_1_quantity': '10 hours',\n",
    "#    'item_1_price': '$200/hr',\n",
    "#    'item_1_amount': '$2000',\n",
    "#    'subtotal': '$2000',\n",
    "#    'tax': '0',\n",
    "#    'discounts': '0',\n",
    "#    'total': '$2000',\n",
    "#    'business_name_2': 'Bostata LLC',\n",
    "#    'business_email_address': 'hi@bostata.com',\n",
    "#    'business_phone_number': '(617) 930-4294'\n",
    "}"
   ]
  },
  {
   "cell_type": "code",
   "execution_count": null,
   "metadata": {},
   "outputs": [],
   "source": [
    "data_map = {\n",
    "    \n",
    "}"
   ]
  },
  {
   "cell_type": "markdown",
   "metadata": {},
   "source": [
    "## Extract from Cypress"
   ]
  },
  {
   "cell_type": "code",
   "execution_count": 78,
   "metadata": {},
   "outputs": [],
   "source": [
    "miner_data={}"
   ]
  },
  {
   "cell_type": "code",
   "execution_count": 79,
   "metadata": {},
   "outputs": [],
   "source": [
    "# COUNTY AND FILE NO.\n",
    "# Text: Case Details for Court Case ORANGE 15IF702186\n",
    "case_summary_re = r'Case Details for Court Case (.+) (\\w+)'\n",
    "match = re.search(case_summary_re,pdf_text)\n",
    "miner_data['county']=match.group(1)\n",
    "miner_data['file_no']=match.group(2)"
   ]
  },
  {
   "cell_type": "code",
   "execution_count": 80,
   "metadata": {},
   "outputs": [],
   "source": [
    "# DEFENDANT\n",
    "# Text: Defendant: BOWES,DANIEL,PATRICK\n",
    "defendant_re = r'Defendant: ([\\w,]+)'\n",
    "match = re.search(defendant_re, pdf_text)\n",
    "miner_data['defendant'] = match.group(1)"
   ]
  },
  {
   "cell_type": "code",
   "execution_count": 81,
   "metadata": {},
   "outputs": [],
   "source": [
    "# OFFENSE DATE\n",
    "# Text: Offense Date/Time: 05/17/2015 09:59 PM\n",
    "datetime_re = r'Offense Date/Time: (.+) \\d'\n",
    "match = re.search(datetime_re, pdf_text)\n",
    "miner_data['offense_date'] = match.group(1)"
   ]
  },
  {
   "cell_type": "code",
   "execution_count": 82,
   "metadata": {},
   "outputs": [],
   "source": [
    "# DATE OF BIRTH\n",
    "# Text: Date of Birth/Estimated Age:\\n 09/10/1988\n",
    "dob_re = r'Date of Birth/Estimated Age:\\n(.+)'\n",
    "match = re.search(dob_re, pdf_text)\n",
    "miner_data['date_of_birth'] = match.group(1)"
   ]
  },
  {
   "cell_type": "code",
   "execution_count": 83,
   "metadata": {},
   "outputs": [],
   "source": [
    "# RACE\n",
    "# Text: Race: WHITE\n",
    "race_re = r'Race: (.+)'\n",
    "match = re.search(race_re,pdf_text)\n",
    "miner_data['race'] = match.group(1)"
   ]
  },
  {
   "cell_type": "code",
   "execution_count": 85,
   "metadata": {},
   "outputs": [],
   "source": [
    "# SEX\n",
    "# Text: Sex: MALE\n",
    "sex_re = r'Sex: (.+)'\n",
    "match = re.search(sex_re,pdf_text)\n",
    "miner_data['sex'] = match.group(1)"
   ]
  },
  {
   "cell_type": "code",
   "execution_count": 86,
   "metadata": {},
   "outputs": [],
   "source": [
    "# OFFENSE DESCRIPTION\n",
    "#Text: CHARGED\\nSPEEDING(80 mph in a 65 mph zone)\n",
    "description_re = r'CHARGED\\n(.+)\\n'\n",
    "match = re.search(description_re,pdf_text)\n",
    "miner_data['offense_description'] = match.group(1)"
   ]
  },
  {
   "cell_type": "code",
   "execution_count": 87,
   "metadata": {},
   "outputs": [],
   "source": [
    "# VERDICT\n",
    "#Text: Verdict: RESPONSIBLE\n",
    "verdict_re = r'Verdict: (\\w+)'\n",
    "match = re.search(verdict_re,pdf_text)\n",
    "miner_data['verdict'] = match.group(1)"
   ]
  },
  {
   "cell_type": "code",
   "execution_count": 88,
   "metadata": {},
   "outputs": [],
   "source": [
    "# DISPOSED\n",
    "#Text: Disposed on: 07/15/2015\n",
    "disposed_re = r'Disposed on: (.+)'\n",
    "match = re.search(disposed_re,pdf_text)\n",
    "miner_data['disposed_on'] = match.group(1)"
   ]
  },
  {
   "cell_type": "code",
   "execution_count": 89,
   "metadata": {},
   "outputs": [
    {
     "data": {
      "text/plain": [
       "{'county': 'ORANGE',\n",
       " 'file_no': '15IF702186',\n",
       " 'defendant': 'BOWES,DANIEL,PATRICK',\n",
       " 'offense_date': '05/17/2015',\n",
       " 'date_of_birth': '09/10/1988',\n",
       " 'race': 'WHITE',\n",
       " 'sex': 'MALE',\n",
       " 'offense_description': 'SPEEDING(80 mph in a 65 mph zone)',\n",
       " 'verdict': 'RESPONSIBLE',\n",
       " 'disposed_on': '07/15/2015'}"
      ]
     },
     "execution_count": 89,
     "metadata": {},
     "output_type": "execute_result"
    }
   ],
   "source": [
    "miner_data"
   ]
  },
  {
   "cell_type": "markdown",
   "metadata": {},
   "source": [
    "## Write to petition form"
   ]
  },
  {
   "cell_type": "code",
   "execution_count": 22,
   "metadata": {},
   "outputs": [
    {
     "data": {
      "text/plain": [
       "\".\\n\\ny\\np\\no\\nc\\nd\\ne\\n\\n \\n\\ni\\nf\\ni\\nt\\nr\\ne\\nc\\na\\n\\n \\n\\n \\nt\\no\\nN\\n~\\n\\n \\n\\n \\n.\\n\\n \\n\\ny\\np\\no\\nc\\nd\\ne\\ni\\nf\\ni\\nt\\nr\\ne\\nc\\na\\n\\n \\n\\n \\nt\\no\\nN\\n~\\n\\n \\n\\n \\n.\\n\\n \\n\\ny\\np\\no\\nc\\nd\\ne\\ni\\nf\\ni\\nt\\nr\\ne\\nc\\n \\na\\n \\nt\\no\\nN\\n~\\n\\n \\n\\n \\n.\\ny\\np\\no\\nc\\n \\nd\\ne\\ni\\nf\\ni\\nt\\nr\\ne\\nc\\n \\na\\n \\nt\\no\\nN\\n~\\n\\n \\n\\n \\n.\\ny\\np\\no\\nc\\n \\nd\\ne\\n\\ni\\nf\\ni\\nt\\nr\\ne\\nc\\n\\n \\n\\na\\n\\n \\nt\\no\\nN\\n~\\n\\n \\n\\n \\n.\\n\\ny\\np\\no\\nc\\nd\\ne\\n\\n \\n\\ni\\nf\\ni\\nt\\nr\\ne\\nc\\n\\n \\n\\na\\n \\nt\\no\\nN\\n\\nCase Details for Court Case ORANGE 15IF702186\\n\\nDefendant: BOWES,DANIEL,PATRICK\\n\\nCase Information\\nCase Record Was Last Updated: 09/22/2015\\nCase Status: DISPOSED\\nMicrofilm Number: -\\nCase Was Reinstated: -\\nJurisdiction: DISTRICT COURT\\nCitation Number: 8878F91\\nOriginating Case (OCA) or Incident\\n•   Agency: -\\n•   Number: -\\n\\nProcess Type in District Court: CITATION\\nProcess Type in Superior Court: -\\n\\nDomestic Violence General Statute (G.S. 50B) Applies to\\n•   Charged Offenses: NO\\n•   Offenses Convicted in District Court: NO\\nCrime Victim's Rights Act (G.S. 15A-830) Applies: NO\\n\\nInterpreter Used: -\\nCase Notes: -\\nCase Officials\\nProsecuting Attorney\\n•   Assigned on: 07/15/2015\\n•   Initials: JLN\\n•   Name: NIEMAN,JEFFREY,LARKIN\\nArrest and Release Information\\nNo arrest information was recorded for this case.\\nViolation of Court Orders\\n\\nCash Bond Was Forfeited on: -\\nOutstanding Order for Arrest Exists: NO\\nTerms of Probation Were Violated: NO\\nFailed to Comply with Ordered Payment within Grace\\nPeriod: YES\\nOrder to Show Cause Exists: NO\\nDefendant\\nName: BOWES,DANIEL,PATRICK\\nAlias Names:(cid:9)\\nDate of Birth/Estimated Age:\\n09/10/1988\\nRace: WHITE\\nSex: MALE\\nAddress: 1030 SUNNYVIEW CIR\\n         (cid:9)\\nWitnesses\\n\\n(cid:9)MATTHEWS, NC 28105\\n\\n(cid:9)-\\n\\nOffense Date/Time: 05/17/2015 09:59 PM\\nCase Was Issued on: 05/17/2015\\nCase Was Entered on: 05/18/2015\\nCase Was Served on: 05/17/2015\\n\\nCourt Session\\n•   Date: 07/15/2015\\n•   Session: AM\\n•   Room: -\\n\\nNumber of Times the Case Was Continued\\n•   By the Defense: 1\\n•   By the State: -\\n•   By the Judge: -\\n•   Because the Case Could Not Be Heard on the Scheduled Date: -\\n\\nDefense Attorney\\n•   Type: PRIVATELY RETAINED (SELF)\\n•   Assigned on: 07/15/2015\\n•   Name: KENNEDY,KEVIN\\n\\nDates Related to Missed Court Appearances\\n•   Last Called And Failed on: -\\n•   Failed to Appear Within 20 days: -\\n•   Appeared After Failing to Appear: -\\n\\nDriver License Information\\n•   License State: NC\\n•   Commercial License: NO\\n•   State Reciprocity: NO\\n•   Civil Revocation Effective: -\\n•   Civil Revocation Status: -\\n\\nPrinted on 04/02/2019 at 01:25:53 PM\\n\\nORANGE 15IF702186\\n\\nPage 1 of\\n\\n3(cid:9)\\n(cid:9)\\n(cid:9)\\n(cid:9)\\n(cid:9)\\n\\x0cAddress\\n\\nPhone Numbers\\n\\nSubpoena\\n\\nHILLSBOROUGH, NC, -\\n\\nHome: -\\nWork: -\\n\\nRequested: -\\nIssued: -\\nServed: -\\nServed By: -\\n\\nCommercial Vehicle: NO\\nHazardous Material: NO\\nVehicle Type: 2 OR 4 DOOR SEDAN (PASSENGER) CAR\\nTrailer Type: -\\nLicense Plate: NC CLH4137\\n\\n(cid:9)DISTRICT COURT (Current Jurisdiction )\\n\\nSeverity\\n\\nLaw\\n\\nINFRACTION\\nINFRACTION\\nINFRACTION\\n\\nG.S. 20-141(B)\\nG.S. 20-141(B)\\nG.S. 20-123.2\\n\\nNCAOC\\nCode\\n4450\\n4450\\n4418\\n\\nPlea: RESPONSIBLE TO LESSER\\nVerdict: RESPONSIBLE\\nSentencing Class: -\\n\\nDefense Attorney\\n\\nType\\n\\nAssigned\\n\\non\\n\\nName\\n\\nPRIVATELY\\nRETAINED\\n\\n07/15/2015 KENNEDY,KEVIN\\n\\nOutstanding Order for Arrest Issued on: -\\nTerms of Probation Were Violated on: -\\n\\nDates Related to Failing to Comply a with Court Order\\n•   Failed to Comply on: -\\n•   Failed to Comply with Ordered Payment within Grace Period on:\\n08/10/2015\\n•   Complied with Ordered Payments after Failing to Comply on:\\n09/21/2015\\nCommunity Service License Revocation Compliance on: -\\n\\n.\\n\\ny\\np\\no\\nc\\nd\\ne\\n\\n \\n\\ni\\nf\\ni\\nt\\nr\\ne\\nc\\na\\n\\n \\n\\n \\nt\\no\\nN\\n~\\n\\n \\n\\n \\n.\\n\\n \\n\\ny\\np\\no\\nc\\nd\\ne\\ni\\nf\\ni\\nt\\nr\\ne\\nc\\na\\n\\n \\n\\n \\nt\\no\\nN\\n~\\n\\n \\n\\n \\n.\\n\\n \\n\\ny\\np\\no\\nc\\nd\\ne\\ni\\nf\\ni\\nt\\nr\\ne\\nc\\n \\na\\n \\nt\\no\\nN\\n~\\n\\n \\n\\n \\n.\\ny\\np\\no\\nc\\n \\nd\\ne\\ni\\nf\\ni\\nt\\nr\\ne\\nc\\n \\na\\n \\nt\\no\\nN\\n~\\n\\n \\n\\n \\n.\\ny\\np\\no\\nc\\n \\nd\\ne\\n\\ni\\nf\\ni\\nt\\nr\\ne\\nc\\n\\n \\n\\na\\n\\n \\nt\\no\\nN\\n~\\n\\n \\n\\n \\n.\\n\\ny\\np\\no\\nc\\nd\\ne\\n\\n \\n\\ni\\nf\\ni\\nt\\nr\\ne\\nc\\n\\n \\n\\na\\n \\nt\\no\\nN\\n\\nName: MORRISON,M,L\\nType: COMPLAINANT\\nOfficer Number: 1529\\nAgency: STATE HIGHWAY PATROL\\nCitation Information\\nCitation Number: 8878F91\\nOffense Date/Time: 05/17/2015 09:59 PM\\nState Road Number: I40\\nState Highway Patrol Area Number: 01\\nState Highway Patrol Troop and District: D7\\nAccident Severity: NEAR ACCIDENT OR NO ACCIDENT\\nConsolidation for Judgment\\nNo consolidation information was recorded for this case.\\nOffense Record 1 of 1 (Line Number 1)(cid:9)\\n(cid:9)  (cid:9)\\nDescription\\n\\nCHARGED\\nSPEEDING(80 mph in a 65 mph zone)\\nARRAIGNED SPEEDING(80 mph in a 65 mph zone)\\nCONVICTED IMPROPER EQUIP - SPEEDOMETER\\nDisposed on: 07/15/2015\\nDisposition Method: DISPOSED BY JUDGE\\nDisposition Reason: -\\nCorrection Reason: -\\n\\nOffense Record: Court Officials\\nJudge: SCARLETT,BEVERLY,A(cid:9)\\nProsecuting Attorney\\nAssigned\\nInitials\\n\\non\\n\\n(cid:9)Initials: BAS\\n\\nName\\n\\n07/15/2015 JLN\\n\\nNIEMAN,JEFFREY,L\\n\\nOffense Record: Violation of Court Orders\\n\\nBond Forfeiture Was Ordered on: -\\nCash Bond Was Forfeited on: -\\nShow Cause Order Issued on: -\\n\\nDates Related to Missed Court Appearances\\n•   Failed to Appear (Called & Failed) on: -\\n•   Failed to Appear Within 20 days: -\\n•   Appeared After Failing to Appear: -\\n\\nCommunity Service License Revocation on: -\\n\\nOffense Record:  Transfers or Appeals\\n\\nNo appeals or transfers were recorded for this offense.\\nOffense Record: Special Conditions\\n\\nNo special conditions were recorded for this offense.\\nOffense Record: Sentence\\n\\nNo sentence information was recorded for this offense.\\nOffense Record: Probation\\n\\nNo probation information was recorded for this offense.\\n\\nPrinted on 04/02/2019 at 01:25:53 PM\\n\\nORANGE 15IF702186\\n\\nPage 2 of\\n\\n3(cid:9)\\n(cid:9)\\n(cid:9)\\n(cid:9)\\n(cid:9)\\n\\x0c.\\n\\ny\\np\\no\\nc\\nd\\ne\\n\\n \\n\\ni\\nf\\ni\\nt\\nr\\ne\\nc\\na\\n\\n \\n\\n \\nt\\no\\nN\\n~\\n\\n \\n\\n \\n.\\n\\n \\n\\ny\\np\\no\\nc\\nd\\ne\\ni\\nf\\ni\\nt\\nr\\ne\\nc\\na\\n\\n \\n\\n \\nt\\no\\nN\\n~\\n\\n \\n\\n \\n.\\n\\n \\n\\ny\\np\\no\\nc\\nd\\ne\\ni\\nf\\ni\\nt\\nr\\ne\\nc\\n \\na\\n \\nt\\no\\nN\\n~\\n\\n \\n\\n \\n.\\ny\\np\\no\\nc\\n \\nd\\ne\\ni\\nf\\ni\\nt\\nr\\ne\\nc\\n \\na\\n \\nt\\no\\nN\\n~\\n\\n \\n\\n \\n.\\ny\\np\\no\\nc\\n \\nd\\ne\\n\\ni\\nf\\ni\\nt\\nr\\ne\\nc\\n\\n \\n\\na\\n\\n \\nt\\no\\nN\\n~\\n\\n \\n\\n \\n.\\n\\ny\\np\\no\\nc\\nd\\ne\\n\\n \\n\\ni\\nf\\ni\\nt\\nr\\ne\\nc\\n\\n \\n\\na\\n \\nt\\no\\nN\\n\\nOffense Record: Monies\\n\\nMonies Paid Status: DEFENDANT HAS COMPLIED WITH FINE OR COST\\nDate Monies To Be Paid: -\\n\\nFine\\n\\nAmount\\n\\nORDERED\\n\\n$25.00\\nRestitution\\nTotal Restitution Amount: -\\nStatus:  -\\nRemarks:  -\\n\\nPayee\\n\\nAmount\\n\\n-\\nDetailed Court Costs\\nTotal Court Cost Amount: $288.00\\nWaive Court Costs: NOT WAIVED\\n\\n-\\n\\nStatus\\n\\nCourt Cases of Defendants Responsible for\\n\\nPaying Restitution Jointly and Severally\\n\\nStatus\\n\\n-\\n\\n-\\n\\nCost Category\\n\\nAmount\\n\\nStatus\\n\\nGCJF DISTRICT\\nGCJF DISTRICT LAA\\nLEOB RF\\nLE CERT TRAINING DISTRICT\\nTELEPHONE FEE DISTRICT\\nMCF FEE\\nCHAPTER 20 VIOLATION FEE DISTRICT\\nSERVICE FEE\\nFACILITIES FEE DISTRICT\\nIMPROPER EQUIPMENT FEE DISTRICT\\nFTC 20DF FEE DISTRICT\\nDMV Notification Events\\n\\nEvent Date\\n\\nEvent Name\\n\\n$127.05\\n$2.45\\n$7.50\\n$2.00\\n$4.00\\n$18.00\\n$10.00\\n$5.00\\n$12.00\\n$50.00\\n$50.00\\n\\nORDERED\\nORDERED\\nORDERED\\nORDERED\\nORDERED\\nORDERED\\nORDERED\\nORDERED\\nORDERED\\nORDERED\\nORDERED\\n\\nMethod of Notification to\\n\\nDMV\\n\\nJurisdiction\\n\\nOffense #\\n\\nSENT ELECTRONICALLY\\n\\nDISTRICT COURT\\n\\n-\\n\\n09/22/2015\\n\\nCOMPLIANCE TO FAILURE TO\\nCOMPLY\\nFAILURE TO COMPLY\\nCONVICTION\\n\\nSENT ELECTRONICALLY\\nSENT ELECTRONICALLY\\n\\n08/10/2015\\n07/15/2015\\nCase Event History\\nNo case history events were recorded for this case.\\nDisclaimer\\nThis document was generated using a North Carolina Administrative Office of the Courts website. The document is intended to be used as a\\nresource to determine the general status of historical and in-process court cases. This information is not the official record of the court. As\\nsuch, it should only be used to gain a general understanding of a case's history and disposition. Accordingly, the North Carolina Administrative\\nOffice of the Courts, the office of the Clerk of Superior Court, their officials and employees are not responsible or liable for any loss,\\nconsequence, or damage resulting directly or indirectly from use of the information.\\n\\nDISTRICT COURT\\nDISTRICT COURT\\n\\n-\\n-\\n\\nPrinted on 04/02/2019 at 01:25:53 PM\\n\\nORANGE 15IF702186\\n\\nPage 3 of\\n\\n3\\x0c\""
      ]
     },
     "execution_count": 22,
     "metadata": {},
     "output_type": "execute_result"
    }
   ],
   "source": [
    "pdf_text"
   ]
  },
  {
   "cell_type": "code",
   "execution_count": null,
   "metadata": {},
   "outputs": [],
   "source": []
  }
 ],
 "metadata": {
  "kernelspec": {
   "display_name": "Python 3",
   "language": "python",
   "name": "python3"
  },
  "language_info": {
   "codemirror_mode": {
    "name": "ipython",
    "version": 3
   },
   "file_extension": ".py",
   "mimetype": "text/x-python",
   "name": "python",
   "nbconvert_exporter": "python",
   "pygments_lexer": "ipython3",
   "version": "3.7.3"
  }
 },
 "nbformat": 4,
 "nbformat_minor": 2
}
